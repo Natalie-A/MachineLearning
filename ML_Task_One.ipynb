{
  "nbformat": 4,
  "nbformat_minor": 0,
  "metadata": {
    "colab": {
      "name": "ML_Task_One.ipynb",
      "provenance": [],
      "collapsed_sections": [],
      "authorship_tag": "ABX9TyNdI5yHbNotw63NR3VGl6Ym",
      "include_colab_link": true
    },
    "kernelspec": {
      "name": "python3",
      "display_name": "Python 3"
    },
    "language_info": {
      "name": "python"
    }
  },
  "cells": [
    {
      "cell_type": "markdown",
      "metadata": {
        "id": "view-in-github",
        "colab_type": "text"
      },
      "source": [
        "<a href=\"https://colab.research.google.com/github/Natalie-A/MachineLearning/blob/main/ML_Task_One.ipynb\" target=\"_parent\"><img src=\"https://colab.research.google.com/assets/colab-badge.svg\" alt=\"Open In Colab\"/></a>"
      ]
    },
    {
      "cell_type": "code",
      "execution_count": 824,
      "metadata": {
        "id": "B6dLnwbmZI4z"
      },
      "outputs": [],
      "source": [
        "from numpy import random\n",
        "import pandas as pd\n",
        "import matplotlib.pyplot as plt\n",
        "plt.rcParams['figure.figsize'] = (12.0, 9.0)"
      ]
    },
    {
      "cell_type": "code",
      "source": [
        "s = 100\n",
        "m = 0\n",
        "c = 0\n",
        "x = random.uniform(10,150,s)\n",
        "y_true = random.uniform(50,300,s)"
      ],
      "metadata": {
        "id": "9AgbcFEiftfc"
      },
      "execution_count": 825,
      "outputs": []
    },
    {
      "cell_type": "code",
      "source": [
        "lr = 0.0001\n",
        "epochs = 1000\n",
        "y_pred = m * x + c"
      ],
      "metadata": {
        "id": "SpvhCphSvCTj"
      },
      "execution_count": 826,
      "outputs": []
    },
    {
      "cell_type": "code",
      "source": [
        "mse = (1/s) * sum((y_true - y_pred)**2)\n",
        "mse"
      ],
      "metadata": {
        "colab": {
          "base_uri": "https://localhost:8080/"
        },
        "id": "_T8iAonFlDPM",
        "outputId": "e6ae05bc-da87-46e5-9217-ea48796ee834"
      },
      "execution_count": 827,
      "outputs": [
        {
          "output_type": "execute_result",
          "data": {
            "text/plain": [
              "36872.71686481413"
            ]
          },
          "metadata": {},
          "execution_count": 827
        }
      ]
    },
    {
      "cell_type": "code",
      "source": [
        "#Gradient Descent Algorithm\n",
        "for i in range(epochs):\n",
        "  y_pred = m * x + c\n",
        "  D_m = (-2/s) * sum(x * (y_true - y_pred)) \n",
        "  D_c = (-2/s) * sum(y_true - y_pred)  \n",
        "  m = m - (lr * D_m)  \n",
        "  c = c - (lr * D_c)\n",
        "\n",
        "print(m,c)"
      ],
      "metadata": {
        "id": "6Rp03YDNiS0m",
        "colab": {
          "base_uri": "https://localhost:8080/"
        },
        "outputId": "7885c459-cc9a-4f3f-8bb8-3df95229c8ac"
      },
      "execution_count": 828,
      "outputs": [
        {
          "output_type": "stream",
          "name": "stdout",
          "text": [
            "1.6575515779368128 6.490667539446409\n"
          ]
        }
      ]
    },
    {
      "cell_type": "code",
      "source": [
        "mse = (1/s) * sum((y_true - y_pred)**2)\n",
        "mse"
      ],
      "metadata": {
        "id": "86O5eZrBkF69",
        "colab": {
          "base_uri": "https://localhost:8080/"
        },
        "outputId": "cff2e34d-e6c9-4909-cb19-35fdf8354639"
      },
      "execution_count": 829,
      "outputs": [
        {
          "output_type": "execute_result",
          "data": {
            "text/plain": [
              "9649.982466614076"
            ]
          },
          "metadata": {},
          "execution_count": 829
        }
      ]
    },
    {
      "cell_type": "code",
      "source": [
        "def prediction(x):\n",
        "  y_pred = m * x +c\n",
        "  return y_pred"
      ],
      "metadata": {
        "id": "3t4pF9ReoxSt"
      },
      "execution_count": 830,
      "outputs": []
    },
    {
      "cell_type": "code",
      "source": [
        "office_data = {'Office Size':x,'Office price':y_true,'Y_pred':y_pred}"
      ],
      "metadata": {
        "id": "PnmUoPz_f4FO"
      },
      "execution_count": 831,
      "outputs": []
    },
    {
      "cell_type": "code",
      "source": [
        "pd.DataFrame(office_data)"
      ],
      "metadata": {
        "id": "_aXCBhm8gk7q",
        "colab": {
          "base_uri": "https://localhost:8080/",
          "height": 423
        },
        "outputId": "42b9b56f-3b4e-434c-a972-66d7cfefe287"
      },
      "execution_count": 832,
      "outputs": [
        {
          "output_type": "execute_result",
          "data": {
            "text/plain": [
              "    Office Size  Office price      Y_pred\n",
              "0    147.832143    248.512338  251.532543\n",
              "1    118.313602    111.811606  202.602276\n",
              "2     45.658029    217.518161   82.167582\n",
              "3    112.857226    290.732136  193.557727\n",
              "4    131.415905    142.222772  224.320802\n",
              "..          ...           ...         ...\n",
              "95   132.328890    209.567581  225.834176\n",
              "96    30.464391    102.126119   56.982438\n",
              "97    96.480121    211.343956  166.410853\n",
              "98    38.348520    210.092319   70.051258\n",
              "99    29.824944    257.570041   55.922483\n",
              "\n",
              "[100 rows x 3 columns]"
            ],
            "text/html": [
              "\n",
              "  <div id=\"df-c70dc3ff-6381-4c67-a8dd-ec5057e634f7\">\n",
              "    <div class=\"colab-df-container\">\n",
              "      <div>\n",
              "<style scoped>\n",
              "    .dataframe tbody tr th:only-of-type {\n",
              "        vertical-align: middle;\n",
              "    }\n",
              "\n",
              "    .dataframe tbody tr th {\n",
              "        vertical-align: top;\n",
              "    }\n",
              "\n",
              "    .dataframe thead th {\n",
              "        text-align: right;\n",
              "    }\n",
              "</style>\n",
              "<table border=\"1\" class=\"dataframe\">\n",
              "  <thead>\n",
              "    <tr style=\"text-align: right;\">\n",
              "      <th></th>\n",
              "      <th>Office Size</th>\n",
              "      <th>Office price</th>\n",
              "      <th>Y_pred</th>\n",
              "    </tr>\n",
              "  </thead>\n",
              "  <tbody>\n",
              "    <tr>\n",
              "      <th>0</th>\n",
              "      <td>147.832143</td>\n",
              "      <td>248.512338</td>\n",
              "      <td>251.532543</td>\n",
              "    </tr>\n",
              "    <tr>\n",
              "      <th>1</th>\n",
              "      <td>118.313602</td>\n",
              "      <td>111.811606</td>\n",
              "      <td>202.602276</td>\n",
              "    </tr>\n",
              "    <tr>\n",
              "      <th>2</th>\n",
              "      <td>45.658029</td>\n",
              "      <td>217.518161</td>\n",
              "      <td>82.167582</td>\n",
              "    </tr>\n",
              "    <tr>\n",
              "      <th>3</th>\n",
              "      <td>112.857226</td>\n",
              "      <td>290.732136</td>\n",
              "      <td>193.557727</td>\n",
              "    </tr>\n",
              "    <tr>\n",
              "      <th>4</th>\n",
              "      <td>131.415905</td>\n",
              "      <td>142.222772</td>\n",
              "      <td>224.320802</td>\n",
              "    </tr>\n",
              "    <tr>\n",
              "      <th>...</th>\n",
              "      <td>...</td>\n",
              "      <td>...</td>\n",
              "      <td>...</td>\n",
              "    </tr>\n",
              "    <tr>\n",
              "      <th>95</th>\n",
              "      <td>132.328890</td>\n",
              "      <td>209.567581</td>\n",
              "      <td>225.834176</td>\n",
              "    </tr>\n",
              "    <tr>\n",
              "      <th>96</th>\n",
              "      <td>30.464391</td>\n",
              "      <td>102.126119</td>\n",
              "      <td>56.982438</td>\n",
              "    </tr>\n",
              "    <tr>\n",
              "      <th>97</th>\n",
              "      <td>96.480121</td>\n",
              "      <td>211.343956</td>\n",
              "      <td>166.410853</td>\n",
              "    </tr>\n",
              "    <tr>\n",
              "      <th>98</th>\n",
              "      <td>38.348520</td>\n",
              "      <td>210.092319</td>\n",
              "      <td>70.051258</td>\n",
              "    </tr>\n",
              "    <tr>\n",
              "      <th>99</th>\n",
              "      <td>29.824944</td>\n",
              "      <td>257.570041</td>\n",
              "      <td>55.922483</td>\n",
              "    </tr>\n",
              "  </tbody>\n",
              "</table>\n",
              "<p>100 rows × 3 columns</p>\n",
              "</div>\n",
              "      <button class=\"colab-df-convert\" onclick=\"convertToInteractive('df-c70dc3ff-6381-4c67-a8dd-ec5057e634f7')\"\n",
              "              title=\"Convert this dataframe to an interactive table.\"\n",
              "              style=\"display:none;\">\n",
              "        \n",
              "  <svg xmlns=\"http://www.w3.org/2000/svg\" height=\"24px\"viewBox=\"0 0 24 24\"\n",
              "       width=\"24px\">\n",
              "    <path d=\"M0 0h24v24H0V0z\" fill=\"none\"/>\n",
              "    <path d=\"M18.56 5.44l.94 2.06.94-2.06 2.06-.94-2.06-.94-.94-2.06-.94 2.06-2.06.94zm-11 1L8.5 8.5l.94-2.06 2.06-.94-2.06-.94L8.5 2.5l-.94 2.06-2.06.94zm10 10l.94 2.06.94-2.06 2.06-.94-2.06-.94-.94-2.06-.94 2.06-2.06.94z\"/><path d=\"M17.41 7.96l-1.37-1.37c-.4-.4-.92-.59-1.43-.59-.52 0-1.04.2-1.43.59L10.3 9.45l-7.72 7.72c-.78.78-.78 2.05 0 2.83L4 21.41c.39.39.9.59 1.41.59.51 0 1.02-.2 1.41-.59l7.78-7.78 2.81-2.81c.8-.78.8-2.07 0-2.86zM5.41 20L4 18.59l7.72-7.72 1.47 1.35L5.41 20z\"/>\n",
              "  </svg>\n",
              "      </button>\n",
              "      \n",
              "  <style>\n",
              "    .colab-df-container {\n",
              "      display:flex;\n",
              "      flex-wrap:wrap;\n",
              "      gap: 12px;\n",
              "    }\n",
              "\n",
              "    .colab-df-convert {\n",
              "      background-color: #E8F0FE;\n",
              "      border: none;\n",
              "      border-radius: 50%;\n",
              "      cursor: pointer;\n",
              "      display: none;\n",
              "      fill: #1967D2;\n",
              "      height: 32px;\n",
              "      padding: 0 0 0 0;\n",
              "      width: 32px;\n",
              "    }\n",
              "\n",
              "    .colab-df-convert:hover {\n",
              "      background-color: #E2EBFA;\n",
              "      box-shadow: 0px 1px 2px rgba(60, 64, 67, 0.3), 0px 1px 3px 1px rgba(60, 64, 67, 0.15);\n",
              "      fill: #174EA6;\n",
              "    }\n",
              "\n",
              "    [theme=dark] .colab-df-convert {\n",
              "      background-color: #3B4455;\n",
              "      fill: #D2E3FC;\n",
              "    }\n",
              "\n",
              "    [theme=dark] .colab-df-convert:hover {\n",
              "      background-color: #434B5C;\n",
              "      box-shadow: 0px 1px 3px 1px rgba(0, 0, 0, 0.15);\n",
              "      filter: drop-shadow(0px 1px 2px rgba(0, 0, 0, 0.3));\n",
              "      fill: #FFFFFF;\n",
              "    }\n",
              "  </style>\n",
              "\n",
              "      <script>\n",
              "        const buttonEl =\n",
              "          document.querySelector('#df-c70dc3ff-6381-4c67-a8dd-ec5057e634f7 button.colab-df-convert');\n",
              "        buttonEl.style.display =\n",
              "          google.colab.kernel.accessAllowed ? 'block' : 'none';\n",
              "\n",
              "        async function convertToInteractive(key) {\n",
              "          const element = document.querySelector('#df-c70dc3ff-6381-4c67-a8dd-ec5057e634f7');\n",
              "          const dataTable =\n",
              "            await google.colab.kernel.invokeFunction('convertToInteractive',\n",
              "                                                     [key], {});\n",
              "          if (!dataTable) return;\n",
              "\n",
              "          const docLinkHtml = 'Like what you see? Visit the ' +\n",
              "            '<a target=\"_blank\" href=https://colab.research.google.com/notebooks/data_table.ipynb>data table notebook</a>'\n",
              "            + ' to learn more about interactive tables.';\n",
              "          element.innerHTML = '';\n",
              "          dataTable['output_type'] = 'display_data';\n",
              "          await google.colab.output.renderOutput(dataTable, element);\n",
              "          const docLink = document.createElement('div');\n",
              "          docLink.innerHTML = docLinkHtml;\n",
              "          element.appendChild(docLink);\n",
              "        }\n",
              "      </script>\n",
              "    </div>\n",
              "  </div>\n",
              "  "
            ]
          },
          "metadata": {},
          "execution_count": 832
        }
      ]
    },
    {
      "cell_type": "code",
      "source": [
        "plt.scatter(x, y_true)\n",
        "plt.plot([min(x), max(x)], [min(y_pred), max(y_pred)], color='red')\n",
        "plt.ylabel(\"Office size\")\n",
        "plt.xlabel(\"Office price\")\n",
        "plt.show()"
      ],
      "metadata": {
        "id": "gs2ljOTphsuO",
        "colab": {
          "base_uri": "https://localhost:8080/",
          "height": 551
        },
        "outputId": "a16ffedd-c93a-44de-9dc3-08e8388e3988"
      },
      "execution_count": 833,
      "outputs": [
        {
          "output_type": "display_data",
          "data": {
            "text/plain": [
              "<Figure size 864x648 with 1 Axes>"
            ],
            "image/png": "[encoded data removed]"
          },
          "metadata": {
            "needs_background": "light"
          }
        }
      ]
    },
    {
      "cell_type": "code",
      "source": [
        "print('Y_pred given x=100 sq ft =',prediction(100))"
      ],
      "metadata": {
        "colab": {
          "base_uri": "https://localhost:8080/"
        },
        "id": "j-UdI1oFo6-_",
        "outputId": "e94b05a2-0de2-46ac-8cd8-34fe70b28be1"
      },
      "execution_count": 834,
      "outputs": [
        {
          "output_type": "stream",
          "name": "stdout",
          "text": [
            "Y_pred given x=100 sq ft = 172.2458253331277\n"
          ]
        }
      ]
    }
  ]
}