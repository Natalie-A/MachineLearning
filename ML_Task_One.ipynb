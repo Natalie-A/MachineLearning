{
  "nbformat": 4,
  "nbformat_minor": 0,
  "metadata": {
    "colab": {
      "name": "ML_Task_One.ipynb",
      "provenance": [],
      "collapsed_sections": [],
      "authorship_tag": "ABX9TyNdI5yHbNotw63NR3VGl6Ym",
      "include_colab_link": true
    },
    "kernelspec": {
      "name": "python3",
      "display_name": "Python 3"
    },
    "language_info": {
      "name": "python"
    }
  },
  "cells": [
    {
      "cell_type": "markdown",
      "metadata": {
        "id": "view-in-github",
        "colab_type": "text"
      },
      "source": [
        "<a href=\"https://colab.research.google.com/github/Natalie-A/MachineLearning/blob/main/ML_Task_One.ipynb\" target=\"_parent\"><img src=\"https://colab.research.google.com/assets/colab-badge.svg\" alt=\"Open In Colab\"/></a>"
      ]
    },
    {
      "cell_type": "code",
      "execution_count": 871,
      "metadata": {
        "id": "B6dLnwbmZI4z"
      },
      "outputs": [],
      "source": [
        "from numpy import random\n",
        "import pandas as pd\n",
        "import matplotlib.pyplot as plt\n",
        "plt.rcParams['figure.figsize'] = (12.0, 9.0)"
      ]
    },
    {
      "cell_type": "code",
      "source": [
        "s = 100\n",
        "m = 0\n",
        "c = 0\n",
        "x = random.uniform(10,150,s)\n",
        "y_true = random.uniform(50,300,s)"
      ],
      "metadata": {
        "id": "9AgbcFEiftfc"
      },
      "execution_count": 872,
      "outputs": []
    },
    {
      "cell_type": "code",
      "source": [
        "lr = 0.0001\n",
        "epochs = 1000\n",
        "y_pred = m * x + c"
      ],
      "metadata": {
        "id": "SpvhCphSvCTj"
      },
      "execution_count": 873,
      "outputs": []
    },
    {
      "cell_type": "code",
      "source": [
        "mse = (1/s) * sum((y_true - y_pred)**2)\n",
        "mse"
      ],
      "metadata": {
        "colab": {
          "base_uri": "https://localhost:8080/"
        },
        "id": "_T8iAonFlDPM",
        "outputId": "b25af3b4-9280-4aa5-99b2-83b560420384"
      },
      "execution_count": 874,
      "outputs": [
        {
          "output_type": "execute_result",
          "data": {
            "text/plain": [
              "33276.46209034309"
            ]
          },
          "metadata": {},
          "execution_count": 874
        }
      ]
    },
    {
      "cell_type": "code",
      "source": [
        "#Gradient Descent Algorithm\n",
        "for i in range(epochs):\n",
        "  y_pred = m * x + c\n",
        "  D_m = (-2/s) * sum(x * (y_true - y_pred)) \n",
        "  D_c = (-2/s) * sum(y_true - y_pred)  \n",
        "  m = m - (lr * D_m)  \n",
        "  c = c - (lr * D_c)\n",
        "\n",
        "print(m,c)"
      ],
      "metadata": {
        "id": "6Rp03YDNiS0m",
        "colab": {
          "base_uri": "https://localhost:8080/"
        },
        "outputId": "8649fd04-76ac-4760-88c9-802712430f8b"
      },
      "execution_count": 875,
      "outputs": [
        {
          "output_type": "stream",
          "name": "stdout",
          "text": [
            "1.6201103368761507 6.193277641411196\n"
          ]
        }
      ]
    },
    {
      "cell_type": "code",
      "source": [
        "mse = (1/s) * sum((y_true - y_pred)**2)\n",
        "mse"
      ],
      "metadata": {
        "id": "86O5eZrBkF69",
        "colab": {
          "base_uri": "https://localhost:8080/"
        },
        "outputId": "95757665-3a05-441a-c1da-488ce2f0e25c"
      },
      "execution_count": 876,
      "outputs": [
        {
          "output_type": "execute_result",
          "data": {
            "text/plain": [
              "9730.798173036881"
            ]
          },
          "metadata": {},
          "execution_count": 876
        }
      ]
    },
    {
      "cell_type": "code",
      "source": [
        "def prediction(x):\n",
        "  y_pred = m * x +c\n",
        "  return y_pred"
      ],
      "metadata": {
        "id": "3t4pF9ReoxSt"
      },
      "execution_count": 877,
      "outputs": []
    },
    {
      "cell_type": "code",
      "source": [
        "office_data = {'Office Size':x,'Office price':y_true,'Y_pred':y_pred}"
      ],
      "metadata": {
        "id": "PnmUoPz_f4FO"
      },
      "execution_count": 878,
      "outputs": []
    },
    {
      "cell_type": "code",
      "source": [
        "pd.DataFrame(office_data)"
      ],
      "metadata": {
        "id": "_aXCBhm8gk7q",
        "colab": {
          "base_uri": "https://localhost:8080/",
          "height": 423
        },
        "outputId": "6d518c72-80f6-4436-8882-3baa2d9421f5"
      },
      "execution_count": 879,
      "outputs": [
        {
          "output_type": "execute_result",
          "data": {
            "text/plain": [
              "    Office Size  Office price      Y_pred\n",
              "0     78.833937    224.123988  133.911575\n",
              "1    132.721899    189.585346  221.219208\n",
              "2    140.494138     61.729108  233.811552\n",
              "3    113.081998    296.794586  189.399239\n",
              "4     34.838906    118.160104   62.632165\n",
              "..          ...           ...         ...\n",
              "95    69.899880    155.280394  119.436886\n",
              "96    99.939827     97.016927  168.106694\n",
              "97   148.503547    261.742868  246.788152\n",
              "98    54.069657     91.249272   93.789242\n",
              "99    42.077426    211.318000   74.359796\n",
              "\n",
              "[100 rows x 3 columns]"
            ],
            "text/html": [
              "\n",
              "  <div id=\"df-cb222d5a-fe3e-465c-9c8e-b5b2a78e7c87\">\n",
              "    <div class=\"colab-df-container\">\n",
              "      <div>\n",
              "<style scoped>\n",
              "    .dataframe tbody tr th:only-of-type {\n",
              "        vertical-align: middle;\n",
              "    }\n",
              "\n",
              "    .dataframe tbody tr th {\n",
              "        vertical-align: top;\n",
              "    }\n",
              "\n",
              "    .dataframe thead th {\n",
              "        text-align: right;\n",
              "    }\n",
              "</style>\n",
              "<table border=\"1\" class=\"dataframe\">\n",
              "  <thead>\n",
              "    <tr style=\"text-align: right;\">\n",
              "      <th></th>\n",
              "      <th>Office Size</th>\n",
              "      <th>Office price</th>\n",
              "      <th>Y_pred</th>\n",
              "    </tr>\n",
              "  </thead>\n",
              "  <tbody>\n",
              "    <tr>\n",
              "      <th>0</th>\n",
              "      <td>78.833937</td>\n",
              "      <td>224.123988</td>\n",
              "      <td>133.911575</td>\n",
              "    </tr>\n",
              "    <tr>\n",
              "      <th>1</th>\n",
              "      <td>132.721899</td>\n",
              "      <td>189.585346</td>\n",
              "      <td>221.219208</td>\n",
              "    </tr>\n",
              "    <tr>\n",
              "      <th>2</th>\n",
              "      <td>140.494138</td>\n",
              "      <td>61.729108</td>\n",
              "      <td>233.811552</td>\n",
              "    </tr>\n",
              "    <tr>\n",
              "      <th>3</th>\n",
              "      <td>113.081998</td>\n",
              "      <td>296.794586</td>\n",
              "      <td>189.399239</td>\n",
              "    </tr>\n",
              "    <tr>\n",
              "      <th>4</th>\n",
              "      <td>34.838906</td>\n",
              "      <td>118.160104</td>\n",
              "      <td>62.632165</td>\n",
              "    </tr>\n",
              "    <tr>\n",
              "      <th>...</th>\n",
              "      <td>...</td>\n",
              "      <td>...</td>\n",
              "      <td>...</td>\n",
              "    </tr>\n",
              "    <tr>\n",
              "      <th>95</th>\n",
              "      <td>69.899880</td>\n",
              "      <td>155.280394</td>\n",
              "      <td>119.436886</td>\n",
              "    </tr>\n",
              "    <tr>\n",
              "      <th>96</th>\n",
              "      <td>99.939827</td>\n",
              "      <td>97.016927</td>\n",
              "      <td>168.106694</td>\n",
              "    </tr>\n",
              "    <tr>\n",
              "      <th>97</th>\n",
              "      <td>148.503547</td>\n",
              "      <td>261.742868</td>\n",
              "      <td>246.788152</td>\n",
              "    </tr>\n",
              "    <tr>\n",
              "      <th>98</th>\n",
              "      <td>54.069657</td>\n",
              "      <td>91.249272</td>\n",
              "      <td>93.789242</td>\n",
              "    </tr>\n",
              "    <tr>\n",
              "      <th>99</th>\n",
              "      <td>42.077426</td>\n",
              "      <td>211.318000</td>\n",
              "      <td>74.359796</td>\n",
              "    </tr>\n",
              "  </tbody>\n",
              "</table>\n",
              "<p>100 rows × 3 columns</p>\n",
              "</div>\n",
              "      <button class=\"colab-df-convert\" onclick=\"convertToInteractive('df-cb222d5a-fe3e-465c-9c8e-b5b2a78e7c87')\"\n",
              "              title=\"Convert this dataframe to an interactive table.\"\n",
              "              style=\"display:none;\">\n",
              "        \n",
              "  <svg xmlns=\"http://www.w3.org/2000/svg\" height=\"24px\"viewBox=\"0 0 24 24\"\n",
              "       width=\"24px\">\n",
              "    <path d=\"M0 0h24v24H0V0z\" fill=\"none\"/>\n",
              "    <path d=\"M18.56 5.44l.94 2.06.94-2.06 2.06-.94-2.06-.94-.94-2.06-.94 2.06-2.06.94zm-11 1L8.5 8.5l.94-2.06 2.06-.94-2.06-.94L8.5 2.5l-.94 2.06-2.06.94zm10 10l.94 2.06.94-2.06 2.06-.94-2.06-.94-.94-2.06-.94 2.06-2.06.94z\"/><path d=\"M17.41 7.96l-1.37-1.37c-.4-.4-.92-.59-1.43-.59-.52 0-1.04.2-1.43.59L10.3 9.45l-7.72 7.72c-.78.78-.78 2.05 0 2.83L4 21.41c.39.39.9.59 1.41.59.51 0 1.02-.2 1.41-.59l7.78-7.78 2.81-2.81c.8-.78.8-2.07 0-2.86zM5.41 20L4 18.59l7.72-7.72 1.47 1.35L5.41 20z\"/>\n",
              "  </svg>\n",
              "      </button>\n",
              "      \n",
              "  <style>\n",
              "    .colab-df-container {\n",
              "      display:flex;\n",
              "      flex-wrap:wrap;\n",
              "      gap: 12px;\n",
              "    }\n",
              "\n",
              "    .colab-df-convert {\n",
              "      background-color: #E8F0FE;\n",
              "      border: none;\n",
              "      border-radius: 50%;\n",
              "      cursor: pointer;\n",
              "      display: none;\n",
              "      fill: #1967D2;\n",
              "      height: 32px;\n",
              "      padding: 0 0 0 0;\n",
              "      width: 32px;\n",
              "    }\n",
              "\n",
              "    .colab-df-convert:hover {\n",
              "      background-color: #E2EBFA;\n",
              "      box-shadow: 0px 1px 2px rgba(60, 64, 67, 0.3), 0px 1px 3px 1px rgba(60, 64, 67, 0.15);\n",
              "      fill: #174EA6;\n",
              "    }\n",
              "\n",
              "    [theme=dark] .colab-df-convert {\n",
              "      background-color: #3B4455;\n",
              "      fill: #D2E3FC;\n",
              "    }\n",
              "\n",
              "    [theme=dark] .colab-df-convert:hover {\n",
              "      background-color: #434B5C;\n",
              "      box-shadow: 0px 1px 3px 1px rgba(0, 0, 0, 0.15);\n",
              "      filter: drop-shadow(0px 1px 2px rgba(0, 0, 0, 0.3));\n",
              "      fill: #FFFFFF;\n",
              "    }\n",
              "  </style>\n",
              "\n",
              "      <script>\n",
              "        const buttonEl =\n",
              "          document.querySelector('#df-cb222d5a-fe3e-465c-9c8e-b5b2a78e7c87 button.colab-df-convert');\n",
              "        buttonEl.style.display =\n",
              "          google.colab.kernel.accessAllowed ? 'block' : 'none';\n",
              "\n",
              "        async function convertToInteractive(key) {\n",
              "          const element = document.querySelector('#df-cb222d5a-fe3e-465c-9c8e-b5b2a78e7c87');\n",
              "          const dataTable =\n",
              "            await google.colab.kernel.invokeFunction('convertToInteractive',\n",
              "                                                     [key], {});\n",
              "          if (!dataTable) return;\n",
              "\n",
              "          const docLinkHtml = 'Like what you see? Visit the ' +\n",
              "            '<a target=\"_blank\" href=https://colab.research.google.com/notebooks/data_table.ipynb>data table notebook</a>'\n",
              "            + ' to learn more about interactive tables.';\n",
              "          element.innerHTML = '';\n",
              "          dataTable['output_type'] = 'display_data';\n",
              "          await google.colab.output.renderOutput(dataTable, element);\n",
              "          const docLink = document.createElement('div');\n",
              "          docLink.innerHTML = docLinkHtml;\n",
              "          element.appendChild(docLink);\n",
              "        }\n",
              "      </script>\n",
              "    </div>\n",
              "  </div>\n",
              "  "
            ]
          },
          "metadata": {},
          "execution_count": 879
        }
      ]
    },
    {
      "cell_type": "code",
      "source": [
        "plt.scatter(x, y_true)\n",
        "plt.plot([min(x), max(x)], [min(y_pred), max(y_pred)], color='red')\n",
        "plt.ylabel(\"Office size\")\n",
        "plt.xlabel(\"Office price\")\n",
        "plt.show()"
      ],
      "metadata": {
        "id": "gs2ljOTphsuO",
        "colab": {
          "base_uri": "https://localhost:8080/",
          "height": 551
        },
        "outputId": "223df337-2990-4324-b8c4-da92a53319ba"
      },
      "execution_count": 880,
      "outputs": [
        {
          "output_type": "display_data",
          "data": {
            "text/plain": [
              "<Figure size 864x648 with 1 Axes>"
            ],
            "image/png": "[encoded data removed]"
          },
          "metadata": {
            "needs_background": "light"
          }
        }
      ]
    },
    {
      "cell_type": "code",
      "source": [
        "print('Y_pred given x=100 sq ft =',prediction(100))"
      ],
      "metadata": {
        "colab": {
          "base_uri": "https://localhost:8080/"
        },
        "id": "j-UdI1oFo6-_",
        "outputId": "783c5788-b491-4ccf-e482-204653cfb463"
      },
      "execution_count": 881,
      "outputs": [
        {
          "output_type": "stream",
          "name": "stdout",
          "text": [
            "Y_pred given x=100 sq ft = 168.20431132902627\n"
          ]
        }
      ]
    }
  ]
}